{
 "cells": [
  {
   "cell_type": "markdown",
   "metadata": {},
   "source": [
    "# 2D Arrays"
   ]
  },
  {
   "cell_type": "markdown",
   "metadata": {},
   "source": [
    "Userful for:\n",
    "storing data in a table,\n",
    "games"
   ]
  },
  {
   "cell_type": "code",
   "execution_count": 3,
   "metadata": {},
   "outputs": [
    {
     "name": "stdout",
     "output_type": "stream",
     "text": [
      "[['0', '1', '2', '3', '4', '5', '6', '7', '8', '9'], ['0', '1', '2', '3', '4', '5', '6', '7', '8', '9'], ['0', '1', '2', '3', '4', '5', '6', '7', '8', '9']]\n"
     ]
    }
   ],
   "source": [
    "import string\n",
    "\n",
    "nums= list(string.digits)\n",
    "\n",
    "grids=[]\n",
    "\n",
    "for l in range(3):\n",
    "    \n",
    "    grids.append(nums)\n",
    "\n",
    "print(grids)  \n",
    "\n"
   ]
  },
  {
   "cell_type": "markdown",
   "metadata": {},
   "source": [
    "## Printing the elements individually - using items\n"
   ]
  },
  {
   "cell_type": "code",
   "execution_count": 7,
   "metadata": {},
   "outputs": [
    {
     "name": "stdout",
     "output_type": "stream",
     "text": [
      "0 1 2 3 4 5 6 7 8 9 \n",
      "0 1 2 3 4 5 6 7 8 9 \n",
      "0 1 2 3 4 5 6 7 8 9 \n"
     ]
    }
   ],
   "source": [
    "for row in grids:  # each row is a list\n",
    "    \n",
    "    for colItem in row:\n",
    "    \n",
    "       print (colItem, end=\" \")\n",
    "        \n",
    "    print()"
   ]
  },
  {
   "cell_type": "markdown",
   "metadata": {},
   "source": [
    "## Printing the elements individually - using 2D indices [x][y]\n"
   ]
  },
  {
   "cell_type": "code",
   "execution_count": 6,
   "metadata": {},
   "outputs": [
    {
     "name": "stdout",
     "output_type": "stream",
     "text": [
      "0 1 2 3 4 5 6 7 8 9 \n",
      "0 1 2 3 4 5 6 7 8 9 \n",
      "0 1 2 3 4 5 6 7 8 9 \n"
     ]
    }
   ],
   "source": [
    "for row in range(len(grids)):\n",
    "    \n",
    "    for col in range(len(grids[row])):\n",
    "        \n",
    "        print (grids[row][col], end=' ')\n",
    "        \n",
    "    print()"
   ]
  },
  {
   "cell_type": "markdown",
   "metadata": {},
   "source": [
    "# Challenge\n",
    "## Create a 3 x 10 grid of random numbers. Hint: first create a list of 10 random numbers. Then append these to a grid. Do this 3 times"
   ]
  },
  {
   "cell_type": "code",
   "execution_count": 8,
   "metadata": {},
   "outputs": [
    {
     "name": "stdout",
     "output_type": "stream",
     "text": [
      "Randomised list is:  [638, 178, 479, 922, 755, 808, 945, 611, 971, 588]\n",
      "\n",
      "[['0', '1', '2', '3', '4', '5', '6', '7', '8', '9'], ['0', '1', '2', '3', '4', '5', '6', '7', '8', '9'], ['0', '1', '2', '3', '4', '5', '6', '7', '8', '9']]\n",
      "\n",
      "638 178 479 922 755 808 945 611 971 588 \n",
      "638 178 479 922 755 808 945 611 971 588 \n",
      "638 178 479 922 755 808 945 611 971 588 \n"
     ]
    }
   ],
   "source": [
    "import random\n",
    "\n",
    "tenNumbers=[]\n",
    "\n",
    "for i in range(10):\n",
    "    \n",
    "    tenNumbers.append(random.randint(1,1000))\n",
    "\n",
    "print('Randomised list is: ',tenNumbers)\n",
    "print()\n",
    "\n",
    "grid=[]\n",
    "\n",
    "for l in range(3):\n",
    "    \n",
    "    grid.append(tenNumbers)\n",
    "\n",
    "print(grids) \n",
    "print()\n",
    "\n",
    "for row in range(len(grid)):\n",
    "    \n",
    "    for col in range(len(grid[row])):\n",
    "        \n",
    "        print (grid[row][col], end=' ')\n",
    "        \n",
    "    print()"
   ]
  },
  {
   "cell_type": "markdown",
   "metadata": {},
   "source": [
    "## Write new code to create a 10x10 grid of randomly placed stars (*). If a cell does not have a star it contains a space\n"
   ]
  },
  {
   "cell_type": "code",
   "execution_count": 56,
   "metadata": {},
   "outputs": [
    {
     "name": "stdout",
     "output_type": "stream",
     "text": [
      " **  * ***\n",
      "* ***   **\n",
      " *     *  \n",
      "     *****\n",
      " *  * **  \n",
      "   ***   *\n",
      "*** * *   \n",
      "  * **    \n",
      "    **    \n",
      " *  **   *\n"
     ]
    }
   ],
   "source": [
    "from random import choice\n",
    "MAX = 10\n",
    "\n",
    "starlist = [\"*\",\" \"]\n",
    "\n",
    "starGrid = []\n",
    "\n",
    "for row in range(MAX):\n",
    "    \n",
    "    gridRow = []\n",
    "    \n",
    "    for col in range(MAX):\n",
    "\n",
    "        star = choice(starlist) \n",
    "        gridRow.append(star)\n",
    "\n",
    "    starGrid.append(gridRow)\n",
    "        \n",
    "#print (starGrid)\n",
    "\n",
    "for row in range(MAX):\n",
    "    \n",
    "    for col in range(MAX):\n",
    "        \n",
    "        print(starGrid[row][col], end =\"\")\n",
    "    print()"
   ]
  }
 ],
 "metadata": {
  "kernelspec": {
   "display_name": "Python 3",
   "language": "python",
   "name": "python3"
  },
  "language_info": {
   "codemirror_mode": {
    "name": "ipython",
    "version": 3
   },
   "file_extension": ".py",
   "mimetype": "text/x-python",
   "name": "python",
   "nbconvert_exporter": "python",
   "pygments_lexer": "ipython3",
   "version": "3.5.2"
  }
 },
 "nbformat": 4,
 "nbformat_minor": 2
}
